{
 "cells": [
  {
   "cell_type": "code",
   "execution_count": 1,
   "metadata": {},
   "outputs": [],
   "source": [
    "import requests\n",
    "from bs4 import BeautifulSoup\n",
    "import pandas as pd\n",
    "from tqdm import tqdm_notebook"
   ]
  },
  {
   "cell_type": "code",
   "execution_count": 2,
   "metadata": {},
   "outputs": [],
   "source": [
    "def load_call_taxi(date):\n",
    "    URL = f'http://openapi.seoul.go.kr:8088/676a7359436c696d33394451454277/xml/disabledCalltaxi/1/100/{date}'\n",
    "    res = requests.get(URL)\n",
    "    html = res.text\n",
    "    soup = BeautifulSoup(html, 'lxml')\n",
    "    \n",
    "    no = []\n",
    "    cartype = []\n",
    "    receipttime = []\n",
    "    settime = []\n",
    "    ridetime = []\n",
    "    startpos1 = []\n",
    "    startpos2 = []\n",
    "    endpos1 = []\n",
    "    endpos2 = []\n",
    "    \n",
    "    for items in soup.findAll('item'):\n",
    "        no.append(items.find('no').text)\n",
    "        cartype.append(items.find('cartype').text.replace(' ', ''))\n",
    "        receipttime.append(items.find('receipttime').text)\n",
    "        settime.append(items.find('settime').text)\n",
    "        ridetime.append(items.find('ridetime').text)\n",
    "        startpos1.append(items.find('startpos1').text)\n",
    "        startpos2.append(items.find('startpos2').text)\n",
    "        endpos1.append(items.find('endpos1').text)\n",
    "        endpos2.append(items.find('endpos2').text)\n",
    "        \n",
    "    dfs = pd.DataFrame({'차량고유번호':no,\n",
    "                   '차량타입':cartype,\n",
    "                   '예정일시':receipttime,\n",
    "                   '배차일시':settime,\n",
    "                   '승차일시':ridetime,\n",
    "                   '출발지(구)':startpos1,\n",
    "                   '출발지(동)':startpos2,\n",
    "                   '목적지(구)':endpos1,\n",
    "                   '목적지(동)':endpos2})\n",
    "    \n",
    "    return dfs\n",
    "        "
   ]
  },
  {
   "cell_type": "code",
   "execution_count": 3,
   "metadata": {},
   "outputs": [],
   "source": [
    "def GetDate(start, end):\n",
    "    dateset = pd.date_range(start=start, end=end, freq='D')\n",
    "    dates = []\n",
    "    for date in dateset:\n",
    "        dates.append(str(date)[:10])\n",
    "    return dates\n"
   ]
  },
  {
   "cell_type": "code",
   "execution_count": 4,
   "metadata": {},
   "outputs": [
    {
     "data": {
      "application/vnd.jupyter.widget-view+json": {
       "model_id": "5504e3a3680a42e7945681005d6b19ff",
       "version_major": 2,
       "version_minor": 0
      },
      "text/plain": [
       "HBox(children=(IntProgress(value=0, max=92), HTML(value='')))"
      ]
     },
     "metadata": {},
     "output_type": "display_data"
    },
    {
     "name": "stdout",
     "output_type": "stream",
     "text": [
      "\n"
     ]
    }
   ],
   "source": [
    "df = pd.DataFrame()\n",
    "for date in tqdm_notebook(GetDate('2018-07-01', '2018-09-30')): # 날짜 수정(각 월에 맞게) !!! \n",
    "    df = pd.concat([df, load_call_taxi(date)], axis=0)\n",
    "\n",
    "\n"
   ]
  },
  {
   "cell_type": "code",
   "execution_count": 5,
   "metadata": {},
   "outputs": [],
   "source": [
    "df.to_csv('call_taxi_raw_07.csv', encoding='euc-kr', index=False) # 파일 이름 수정( 01~12 )!!! 파일 경로 수정!!! "
   ]
  },
  {
   "cell_type": "code",
   "execution_count": null,
   "metadata": {},
   "outputs": [],
   "source": []
  }
 ],
 "metadata": {
  "kernelspec": {
   "display_name": "Python 3",
   "language": "python",
   "name": "python3"
  },
  "language_info": {
   "codemirror_mode": {
    "name": "ipython",
    "version": 3
   },
   "file_extension": ".py",
   "mimetype": "text/x-python",
   "name": "python",
   "nbconvert_exporter": "python",
   "pygments_lexer": "ipython3",
   "version": "3.6.8"
  }
 },
 "nbformat": 4,
 "nbformat_minor": 2
}
